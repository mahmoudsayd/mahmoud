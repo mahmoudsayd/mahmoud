{
 "cells": [
  {
   "cell_type": "markdown",
   "id": "aa11e1fa",
   "metadata": {},
   "source": [
    "title of the notebook"
   ]
  },
  {
   "cell_type": "markdown",
   "id": "77b46d34",
   "metadata": {},
   "source": [
    "introduction"
   ]
  },
  {
   "cell_type": "markdown",
   "id": "9d2894f8",
   "metadata": {},
   "source": [
    "R - Python -Sql - Julia"
   ]
  },
  {
   "cell_type": "markdown",
   "id": "d6abde7a",
   "metadata": {},
   "source": [
    "Pandas - NumPy -Scikit-learn -TensorFlow-Keras-Matplotlib-Seaborn"
   ]
  },
  {
   "cell_type": "markdown",
   "id": "5b3f4e2b",
   "metadata": {},
   "source": [
    "Jupyter Notebooks -RStudio-Python-Apache Spark"
   ]
  },
  {
   "cell_type": "markdown",
   "id": "9a35f0a9",
   "metadata": {},
   "source": [
    "Addition-Subtraction-Multiplication-Division"
   ]
  },
  {
   "cell_type": "code",
   "execution_count": 1,
   "id": "b9703d10",
   "metadata": {},
   "outputs": [
    {
     "data": {
      "text/plain": [
       "15"
      ]
     },
     "execution_count": 1,
     "metadata": {},
     "output_type": "execute_result"
    }
   ],
   "source": [
    "5*3"
   ]
  },
  {
   "cell_type": "code",
   "execution_count": 2,
   "id": "b2ddd5e2",
   "metadata": {},
   "outputs": [
    {
     "data": {
      "text/plain": [
       "8"
      ]
     },
     "execution_count": 2,
     "metadata": {},
     "output_type": "execute_result"
    }
   ],
   "source": [
    "5+3"
   ]
  },
  {
   "cell_type": "code",
   "execution_count": 5,
   "id": "adfd6673",
   "metadata": {},
   "outputs": [
    {
     "name": "stdout",
     "output_type": "stream",
     "text": [
      "60\n",
      "1.0 hours\n"
     ]
    }
   ],
   "source": [
    "minutes =int(input())\n",
    "hours=minutes /60\n",
    "print(hours,\"hours\")"
   ]
  },
  {
   "cell_type": "markdown",
   "id": "9ccd7a36",
   "metadata": {},
   "source": [
    "Objectives = create cells , knows machien learing llib and dead learing and some lools for data scince"
   ]
  },
  {
   "cell_type": "markdown",
   "id": "69e60f09",
   "metadata": {},
   "source": [
    "Author’s is mahmoud sayd"
   ]
  },
  {
   "cell_type": "code",
   "execution_count": null,
   "id": "a361c1bf",
   "metadata": {},
   "outputs": [],
   "source": []
  }
 ],
 "metadata": {
  "kernelspec": {
   "display_name": "Python 3 (ipykernel)",
   "language": "python",
   "name": "python3"
  },
  "language_info": {
   "codemirror_mode": {
    "name": "ipython",
    "version": 3
   },
   "file_extension": ".py",
   "mimetype": "text/x-python",
   "name": "python",
   "nbconvert_exporter": "python",
   "pygments_lexer": "ipython3",
   "version": "3.11.5"
  }
 },
 "nbformat": 4,
 "nbformat_minor": 5
}
