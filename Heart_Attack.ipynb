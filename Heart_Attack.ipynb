{
  "cells": [
    {
      "cell_type": "code",
      "execution_count": null,
      "id": "ef73f541-1b47-4d98-a3b0-0f100782c8ef",
      "metadata": {
        "id": "ef73f541-1b47-4d98-a3b0-0f100782c8ef"
      },
      "outputs": [],
      "source": [
        "import numpy as np\n",
        "import pandas as pd\n",
        "import matplotlib.pyplot as plt\n",
        "import seaborn as sns\n",
        "from sklearn.model_selection import train_test_split\n",
        "from sklearn.linear_model import LogisticRegression\n",
        "from sklearn.metrics import accuracy_score, confusion_matrix"
      ]
    },
    {
      "cell_type": "code",
      "execution_count": null,
      "id": "c6eb5ed0-0060-4c34-b9c8-f054c6c5ac10",
      "metadata": {
        "id": "c6eb5ed0-0060-4c34-b9c8-f054c6c5ac10",
        "outputId": "fcb04e8b-7340-415a-e0a0-0941954256e2"
      },
      "outputs": [
        {
          "data": {
            "text/html": [
              "<div>\n",
              "<style scoped>\n",
              "    .dataframe tbody tr th:only-of-type {\n",
              "        vertical-align: middle;\n",
              "    }\n",
              "\n",
              "    .dataframe tbody tr th {\n",
              "        vertical-align: top;\n",
              "    }\n",
              "\n",
              "    .dataframe thead th {\n",
              "        text-align: right;\n",
              "    }\n",
              "</style>\n",
              "<table border=\"1\" class=\"dataframe\">\n",
              "  <thead>\n",
              "    <tr style=\"text-align: right;\">\n",
              "      <th></th>\n",
              "      <th>age</th>\n",
              "      <th>sex</th>\n",
              "      <th>cp</th>\n",
              "      <th>trtbps</th>\n",
              "      <th>chol</th>\n",
              "      <th>fbs</th>\n",
              "      <th>restecg</th>\n",
              "      <th>thalachh</th>\n",
              "      <th>exng</th>\n",
              "      <th>oldpeak</th>\n",
              "      <th>slp</th>\n",
              "      <th>caa</th>\n",
              "      <th>thall</th>\n",
              "      <th>output</th>\n",
              "    </tr>\n",
              "  </thead>\n",
              "  <tbody>\n",
              "    <tr>\n",
              "      <th>0</th>\n",
              "      <td>63</td>\n",
              "      <td>1</td>\n",
              "      <td>3</td>\n",
              "      <td>145</td>\n",
              "      <td>233</td>\n",
              "      <td>1</td>\n",
              "      <td>0</td>\n",
              "      <td>150</td>\n",
              "      <td>0</td>\n",
              "      <td>2.3</td>\n",
              "      <td>0</td>\n",
              "      <td>0</td>\n",
              "      <td>1</td>\n",
              "      <td>1</td>\n",
              "    </tr>\n",
              "    <tr>\n",
              "      <th>1</th>\n",
              "      <td>37</td>\n",
              "      <td>1</td>\n",
              "      <td>2</td>\n",
              "      <td>130</td>\n",
              "      <td>250</td>\n",
              "      <td>0</td>\n",
              "      <td>1</td>\n",
              "      <td>187</td>\n",
              "      <td>0</td>\n",
              "      <td>3.5</td>\n",
              "      <td>0</td>\n",
              "      <td>0</td>\n",
              "      <td>2</td>\n",
              "      <td>1</td>\n",
              "    </tr>\n",
              "    <tr>\n",
              "      <th>2</th>\n",
              "      <td>41</td>\n",
              "      <td>0</td>\n",
              "      <td>1</td>\n",
              "      <td>130</td>\n",
              "      <td>204</td>\n",
              "      <td>0</td>\n",
              "      <td>0</td>\n",
              "      <td>172</td>\n",
              "      <td>0</td>\n",
              "      <td>1.4</td>\n",
              "      <td>2</td>\n",
              "      <td>0</td>\n",
              "      <td>2</td>\n",
              "      <td>1</td>\n",
              "    </tr>\n",
              "    <tr>\n",
              "      <th>3</th>\n",
              "      <td>56</td>\n",
              "      <td>1</td>\n",
              "      <td>1</td>\n",
              "      <td>120</td>\n",
              "      <td>236</td>\n",
              "      <td>0</td>\n",
              "      <td>1</td>\n",
              "      <td>178</td>\n",
              "      <td>0</td>\n",
              "      <td>0.8</td>\n",
              "      <td>2</td>\n",
              "      <td>0</td>\n",
              "      <td>2</td>\n",
              "      <td>1</td>\n",
              "    </tr>\n",
              "    <tr>\n",
              "      <th>4</th>\n",
              "      <td>57</td>\n",
              "      <td>0</td>\n",
              "      <td>0</td>\n",
              "      <td>120</td>\n",
              "      <td>354</td>\n",
              "      <td>0</td>\n",
              "      <td>1</td>\n",
              "      <td>163</td>\n",
              "      <td>1</td>\n",
              "      <td>0.6</td>\n",
              "      <td>2</td>\n",
              "      <td>0</td>\n",
              "      <td>2</td>\n",
              "      <td>1</td>\n",
              "    </tr>\n",
              "  </tbody>\n",
              "</table>\n",
              "</div>"
            ],
            "text/plain": [
              "   age  sex  cp  trtbps  chol  fbs  restecg  thalachh  exng  oldpeak  slp  \\\n",
              "0   63    1   3     145   233    1        0       150     0      2.3    0   \n",
              "1   37    1   2     130   250    0        1       187     0      3.5    0   \n",
              "2   41    0   1     130   204    0        0       172     0      1.4    2   \n",
              "3   56    1   1     120   236    0        1       178     0      0.8    2   \n",
              "4   57    0   0     120   354    0        1       163     1      0.6    2   \n",
              "\n",
              "   caa  thall  output  \n",
              "0    0      1       1  \n",
              "1    0      2       1  \n",
              "2    0      2       1  \n",
              "3    0      2       1  \n",
              "4    0      2       1  "
            ]
          },
          "execution_count": 5,
          "metadata": {},
          "output_type": "execute_result"
        }
      ],
      "source": [
        "path = r\"D:\\Me\\TM271\\Projects\\Heart attack\\heartone.csv\"\n",
        "\n",
        "data = pd.read_csv(path)\n",
        "data.head(5)"
      ]
    },
    {
      "cell_type": "code",
      "execution_count": null,
      "id": "6a3789a2-50b6-4abe-8cdb-eb34ab219d9b",
      "metadata": {
        "id": "6a3789a2-50b6-4abe-8cdb-eb34ab219d9b",
        "outputId": "56302e37-65f9-4867-ee6f-a820dacc66d5"
      },
      "outputs": [
        {
          "data": {
            "text/plain": [
              "(303, 14)"
            ]
          },
          "execution_count": 3,
          "metadata": {},
          "output_type": "execute_result"
        }
      ],
      "source": [
        "data.shape"
      ]
    },
    {
      "cell_type": "code",
      "execution_count": null,
      "id": "c1b9ffe2-cb26-477f-9aef-57332eca0d71",
      "metadata": {
        "id": "c1b9ffe2-cb26-477f-9aef-57332eca0d71",
        "outputId": "9a9f254c-2d30-4bd6-d6a8-301ad2f85452"
      },
      "outputs": [
        {
          "data": {
            "text/plain": [
              "Index(['age', 'sex', 'cp', 'trtbps', 'chol', 'fbs', 'restecg', 'thalachh',\n",
              "       'exng', 'oldpeak', 'slp', 'caa', 'thall', 'output'],\n",
              "      dtype='object')"
            ]
          },
          "execution_count": 6,
          "metadata": {},
          "output_type": "execute_result"
        }
      ],
      "source": [
        "#Check columns in dataset\n",
        "data.columns"
      ]
    },
    {
      "cell_type": "code",
      "execution_count": null,
      "id": "6c162f83-e307-41af-8171-1ea5b8c4a545",
      "metadata": {
        "id": "6c162f83-e307-41af-8171-1ea5b8c4a545",
        "outputId": "1e2dcdf2-34a5-4f3e-ad39-82ebb0dcd17b"
      },
      "outputs": [
        {
          "data": {
            "text/plain": [
              "age         0\n",
              "sex         0\n",
              "cp          0\n",
              "trtbps      0\n",
              "chol        0\n",
              "fbs         0\n",
              "restecg     0\n",
              "thalachh    0\n",
              "exng        0\n",
              "oldpeak     0\n",
              "slp         0\n",
              "caa         0\n",
              "thall       0\n",
              "output      0\n",
              "dtype: int64"
            ]
          },
          "execution_count": 7,
          "metadata": {},
          "output_type": "execute_result"
        }
      ],
      "source": [
        "#Check for null values\n",
        "data.isnull().sum()"
      ]
    },
    {
      "cell_type": "code",
      "execution_count": null,
      "id": "e9b09ec2-95d9-40ea-868d-6ec17578fec3",
      "metadata": {
        "id": "e9b09ec2-95d9-40ea-868d-6ec17578fec3",
        "outputId": "1e0ea237-08a8-49dc-c163-faa0e2cab132"
      },
      "outputs": [
        {
          "name": "stdout",
          "output_type": "stream",
          "text": [
            "<class 'pandas.core.frame.DataFrame'>\n",
            "RangeIndex: 303 entries, 0 to 302\n",
            "Data columns (total 14 columns):\n",
            " #   Column    Non-Null Count  Dtype  \n",
            "---  ------    --------------  -----  \n",
            " 0   age       303 non-null    int64  \n",
            " 1   sex       303 non-null    int64  \n",
            " 2   cp        303 non-null    int64  \n",
            " 3   trtbps    303 non-null    int64  \n",
            " 4   chol      303 non-null    int64  \n",
            " 5   fbs       303 non-null    int64  \n",
            " 6   restecg   303 non-null    int64  \n",
            " 7   thalachh  303 non-null    int64  \n",
            " 8   exng      303 non-null    int64  \n",
            " 9   oldpeak   303 non-null    float64\n",
            " 10  slp       303 non-null    int64  \n",
            " 11  caa       303 non-null    int64  \n",
            " 12  thall     303 non-null    int64  \n",
            " 13  output    303 non-null    int64  \n",
            "dtypes: float64(1), int64(13)\n",
            "memory usage: 33.3 KB\n"
          ]
        }
      ],
      "source": [
        "#Check data types\n",
        "data.info()"
      ]
    },
    {
      "cell_type": "code",
      "execution_count": null,
      "id": "fe1f71ab-6e93-4c08-8e84-87132a51a8ca",
      "metadata": {
        "id": "fe1f71ab-6e93-4c08-8e84-87132a51a8ca",
        "outputId": "1860f77e-cd11-4a3a-e6cc-3457227a964a"
      },
      "outputs": [
        {
          "data": {
            "text/plain": [
              "output\n",
              "1    165\n",
              "0    138\n",
              "Name: count, dtype: int64"
            ]
          },
          "execution_count": 11,
          "metadata": {},
          "output_type": "execute_result"
        }
      ],
      "source": [
        "data['output'].value_counts()"
      ]
    },
    {
      "cell_type": "code",
      "execution_count": null,
      "id": "af3f9a63-8aeb-48b2-b114-4db3a058bdd9",
      "metadata": {
        "id": "af3f9a63-8aeb-48b2-b114-4db3a058bdd9",
        "outputId": "3caaafbf-8e9b-4e4a-e01a-986517f3714c"
      },
      "outputs": [
        {
          "data": {
            "text/html": [
              "<div>\n",
              "<style scoped>\n",
              "    .dataframe tbody tr th:only-of-type {\n",
              "        vertical-align: middle;\n",
              "    }\n",
              "\n",
              "    .dataframe tbody tr th {\n",
              "        vertical-align: top;\n",
              "    }\n",
              "\n",
              "    .dataframe thead th {\n",
              "        text-align: right;\n",
              "    }\n",
              "</style>\n",
              "<table border=\"1\" class=\"dataframe\">\n",
              "  <thead>\n",
              "    <tr style=\"text-align: right;\">\n",
              "      <th></th>\n",
              "      <th>count</th>\n",
              "      <th>mean</th>\n",
              "      <th>std</th>\n",
              "      <th>min</th>\n",
              "      <th>25%</th>\n",
              "      <th>50%</th>\n",
              "      <th>75%</th>\n",
              "      <th>max</th>\n",
              "    </tr>\n",
              "  </thead>\n",
              "  <tbody>\n",
              "    <tr>\n",
              "      <th>age</th>\n",
              "      <td>303.0</td>\n",
              "      <td>54.366337</td>\n",
              "      <td>9.082101</td>\n",
              "      <td>29.0</td>\n",
              "      <td>47.5</td>\n",
              "      <td>55.0</td>\n",
              "      <td>61.0</td>\n",
              "      <td>77.0</td>\n",
              "    </tr>\n",
              "    <tr>\n",
              "      <th>sex</th>\n",
              "      <td>303.0</td>\n",
              "      <td>0.683168</td>\n",
              "      <td>0.466011</td>\n",
              "      <td>0.0</td>\n",
              "      <td>0.0</td>\n",
              "      <td>1.0</td>\n",
              "      <td>1.0</td>\n",
              "      <td>1.0</td>\n",
              "    </tr>\n",
              "    <tr>\n",
              "      <th>cp</th>\n",
              "      <td>303.0</td>\n",
              "      <td>0.966997</td>\n",
              "      <td>1.032052</td>\n",
              "      <td>0.0</td>\n",
              "      <td>0.0</td>\n",
              "      <td>1.0</td>\n",
              "      <td>2.0</td>\n",
              "      <td>3.0</td>\n",
              "    </tr>\n",
              "    <tr>\n",
              "      <th>trtbps</th>\n",
              "      <td>303.0</td>\n",
              "      <td>131.623762</td>\n",
              "      <td>17.538143</td>\n",
              "      <td>94.0</td>\n",
              "      <td>120.0</td>\n",
              "      <td>130.0</td>\n",
              "      <td>140.0</td>\n",
              "      <td>200.0</td>\n",
              "    </tr>\n",
              "    <tr>\n",
              "      <th>chol</th>\n",
              "      <td>303.0</td>\n",
              "      <td>246.264026</td>\n",
              "      <td>51.830751</td>\n",
              "      <td>126.0</td>\n",
              "      <td>211.0</td>\n",
              "      <td>240.0</td>\n",
              "      <td>274.5</td>\n",
              "      <td>564.0</td>\n",
              "    </tr>\n",
              "    <tr>\n",
              "      <th>fbs</th>\n",
              "      <td>303.0</td>\n",
              "      <td>0.148515</td>\n",
              "      <td>0.356198</td>\n",
              "      <td>0.0</td>\n",
              "      <td>0.0</td>\n",
              "      <td>0.0</td>\n",
              "      <td>0.0</td>\n",
              "      <td>1.0</td>\n",
              "    </tr>\n",
              "    <tr>\n",
              "      <th>restecg</th>\n",
              "      <td>303.0</td>\n",
              "      <td>0.528053</td>\n",
              "      <td>0.525860</td>\n",
              "      <td>0.0</td>\n",
              "      <td>0.0</td>\n",
              "      <td>1.0</td>\n",
              "      <td>1.0</td>\n",
              "      <td>2.0</td>\n",
              "    </tr>\n",
              "    <tr>\n",
              "      <th>thalachh</th>\n",
              "      <td>303.0</td>\n",
              "      <td>149.646865</td>\n",
              "      <td>22.905161</td>\n",
              "      <td>71.0</td>\n",
              "      <td>133.5</td>\n",
              "      <td>153.0</td>\n",
              "      <td>166.0</td>\n",
              "      <td>202.0</td>\n",
              "    </tr>\n",
              "    <tr>\n",
              "      <th>exng</th>\n",
              "      <td>303.0</td>\n",
              "      <td>0.326733</td>\n",
              "      <td>0.469794</td>\n",
              "      <td>0.0</td>\n",
              "      <td>0.0</td>\n",
              "      <td>0.0</td>\n",
              "      <td>1.0</td>\n",
              "      <td>1.0</td>\n",
              "    </tr>\n",
              "    <tr>\n",
              "      <th>oldpeak</th>\n",
              "      <td>303.0</td>\n",
              "      <td>1.039604</td>\n",
              "      <td>1.161075</td>\n",
              "      <td>0.0</td>\n",
              "      <td>0.0</td>\n",
              "      <td>0.8</td>\n",
              "      <td>1.6</td>\n",
              "      <td>6.2</td>\n",
              "    </tr>\n",
              "    <tr>\n",
              "      <th>slp</th>\n",
              "      <td>303.0</td>\n",
              "      <td>1.399340</td>\n",
              "      <td>0.616226</td>\n",
              "      <td>0.0</td>\n",
              "      <td>1.0</td>\n",
              "      <td>1.0</td>\n",
              "      <td>2.0</td>\n",
              "      <td>2.0</td>\n",
              "    </tr>\n",
              "    <tr>\n",
              "      <th>caa</th>\n",
              "      <td>303.0</td>\n",
              "      <td>0.729373</td>\n",
              "      <td>1.022606</td>\n",
              "      <td>0.0</td>\n",
              "      <td>0.0</td>\n",
              "      <td>0.0</td>\n",
              "      <td>1.0</td>\n",
              "      <td>4.0</td>\n",
              "    </tr>\n",
              "    <tr>\n",
              "      <th>thall</th>\n",
              "      <td>303.0</td>\n",
              "      <td>2.313531</td>\n",
              "      <td>0.612277</td>\n",
              "      <td>0.0</td>\n",
              "      <td>2.0</td>\n",
              "      <td>2.0</td>\n",
              "      <td>3.0</td>\n",
              "      <td>3.0</td>\n",
              "    </tr>\n",
              "    <tr>\n",
              "      <th>output</th>\n",
              "      <td>303.0</td>\n",
              "      <td>0.544554</td>\n",
              "      <td>0.498835</td>\n",
              "      <td>0.0</td>\n",
              "      <td>0.0</td>\n",
              "      <td>1.0</td>\n",
              "      <td>1.0</td>\n",
              "      <td>1.0</td>\n",
              "    </tr>\n",
              "  </tbody>\n",
              "</table>\n",
              "</div>"
            ],
            "text/plain": [
              "          count        mean        std    min    25%    50%    75%    max\n",
              "age       303.0   54.366337   9.082101   29.0   47.5   55.0   61.0   77.0\n",
              "sex       303.0    0.683168   0.466011    0.0    0.0    1.0    1.0    1.0\n",
              "cp        303.0    0.966997   1.032052    0.0    0.0    1.0    2.0    3.0\n",
              "trtbps    303.0  131.623762  17.538143   94.0  120.0  130.0  140.0  200.0\n",
              "chol      303.0  246.264026  51.830751  126.0  211.0  240.0  274.5  564.0\n",
              "fbs       303.0    0.148515   0.356198    0.0    0.0    0.0    0.0    1.0\n",
              "restecg   303.0    0.528053   0.525860    0.0    0.0    1.0    1.0    2.0\n",
              "thalachh  303.0  149.646865  22.905161   71.0  133.5  153.0  166.0  202.0\n",
              "exng      303.0    0.326733   0.469794    0.0    0.0    0.0    1.0    1.0\n",
              "oldpeak   303.0    1.039604   1.161075    0.0    0.0    0.8    1.6    6.2\n",
              "slp       303.0    1.399340   0.616226    0.0    1.0    1.0    2.0    2.0\n",
              "caa       303.0    0.729373   1.022606    0.0    0.0    0.0    1.0    4.0\n",
              "thall     303.0    2.313531   0.612277    0.0    2.0    2.0    3.0    3.0\n",
              "output    303.0    0.544554   0.498835    0.0    0.0    1.0    1.0    1.0"
            ]
          },
          "execution_count": 10,
          "metadata": {},
          "output_type": "execute_result"
        }
      ],
      "source": [
        "#the description of the data\n",
        "data.describe().T"
      ]
    },
    {
      "cell_type": "code",
      "execution_count": null,
      "id": "b9a2d412-7893-49a9-8f87-feb70cc49af3",
      "metadata": {
        "id": "b9a2d412-7893-49a9-8f87-feb70cc49af3"
      },
      "outputs": [],
      "source": [
        "injured = data[data['output'].isin([1])]\n",
        "Noninjured = data[data['output'].isin([0])]"
      ]
    },
    {
      "cell_type": "code",
      "execution_count": null,
      "id": "c84cd28e-2192-4041-b030-f27e47c3b22b",
      "metadata": {
        "id": "c84cd28e-2192-4041-b030-f27e47c3b22b",
        "outputId": "213a3928-8ac1-481a-e2c7-386659a65437"
      },
      "outputs": [
        {
          "name": "stdout",
          "output_type": "stream",
          "text": [
            "injured\n",
            "            0      1      2      3      4      5      6      7      8    \\\n",
            "age        63.0   37.0   41.0   56.0   57.0   57.0   56.0   44.0   52.0   \n",
            "sex         1.0    1.0    0.0    1.0    0.0    1.0    0.0    1.0    1.0   \n",
            "cp          3.0    2.0    1.0    1.0    0.0    0.0    1.0    1.0    2.0   \n",
            "trtbps    145.0  130.0  130.0  120.0  120.0  140.0  140.0  120.0  172.0   \n",
            "chol      233.0  250.0  204.0  236.0  354.0  192.0  294.0  263.0  199.0   \n",
            "fbs         1.0    0.0    0.0    0.0    0.0    0.0    0.0    0.0    1.0   \n",
            "restecg     0.0    1.0    0.0    1.0    1.0    1.0    0.0    1.0    1.0   \n",
            "thalachh  150.0  187.0  172.0  178.0  163.0  148.0  153.0  173.0  162.0   \n",
            "exng        0.0    0.0    0.0    0.0    1.0    0.0    0.0    0.0    0.0   \n",
            "oldpeak     2.3    3.5    1.4    0.8    0.6    0.4    1.3    0.0    0.5   \n",
            "slp         0.0    0.0    2.0    2.0    2.0    1.0    1.0    2.0    2.0   \n",
            "caa         0.0    0.0    0.0    0.0    0.0    0.0    0.0    0.0    0.0   \n",
            "thall       1.0    2.0    2.0    2.0    2.0    1.0    2.0    3.0    3.0   \n",
            "output      1.0    1.0    1.0    1.0    1.0    1.0    1.0    1.0    1.0   \n",
            "\n",
            "            9    ...    155    156    157    158    159    160    161    162  \\\n",
            "age        57.0  ...   58.0   47.0   35.0   58.0   56.0   56.0   55.0   41.0   \n",
            "sex         1.0  ...    0.0    1.0    1.0    1.0    1.0    1.0    0.0    1.0   \n",
            "cp          2.0  ...    0.0    2.0    1.0    1.0    1.0    1.0    1.0    1.0   \n",
            "trtbps    150.0  ...  130.0  130.0  122.0  125.0  130.0  120.0  132.0  120.0   \n",
            "chol      168.0  ...  197.0  253.0  192.0  220.0  221.0  240.0  342.0  157.0   \n",
            "fbs         0.0  ...    0.0    0.0    0.0    0.0    0.0    0.0    0.0    0.0   \n",
            "restecg     1.0  ...    1.0    1.0    1.0    1.0    0.0    1.0    1.0    1.0   \n",
            "thalachh  174.0  ...  131.0  179.0  174.0  144.0  163.0  169.0  166.0  182.0   \n",
            "exng        0.0  ...    0.0    0.0    0.0    0.0    0.0    0.0    0.0    0.0   \n",
            "oldpeak     1.6  ...    0.6    0.0    0.0    0.4    0.0    0.0    1.2    0.0   \n",
            "slp         2.0  ...    1.0    2.0    2.0    1.0    2.0    0.0    2.0    2.0   \n",
            "caa         0.0  ...    0.0    0.0    0.0    4.0    0.0    0.0    0.0    0.0   \n",
            "thall       2.0  ...    2.0    2.0    2.0    3.0    3.0    2.0    2.0    2.0   \n",
            "output      1.0  ...    1.0    1.0    1.0    1.0    1.0    1.0    1.0    1.0   \n",
            "\n",
            "            163    164  \n",
            "age        38.0   38.0  \n",
            "sex         1.0    1.0  \n",
            "cp          2.0    2.0  \n",
            "trtbps    138.0  138.0  \n",
            "chol      175.0  175.0  \n",
            "fbs         0.0    0.0  \n",
            "restecg     1.0    1.0  \n",
            "thalachh  173.0  173.0  \n",
            "exng        0.0    0.0  \n",
            "oldpeak     0.0    0.0  \n",
            "slp         2.0    2.0  \n",
            "caa         4.0    4.0  \n",
            "thall       2.0    2.0  \n",
            "output      1.0    1.0  \n",
            "\n",
            "[14 rows x 165 columns]\n",
            "-------------------------------------------\n",
            "Noninjured\n",
            "            165    166    167    168    169    170    171    172    173  \\\n",
            "age        67.0   67.0   62.0   63.0   53.0   56.0   48.0   58.0   58.0   \n",
            "sex         1.0    1.0    0.0    1.0    1.0    1.0    1.0    1.0    1.0   \n",
            "cp          0.0    0.0    0.0    0.0    0.0    2.0    1.0    1.0    2.0   \n",
            "trtbps    160.0  120.0  140.0  130.0  140.0  130.0  110.0  120.0  132.0   \n",
            "chol      286.0  229.0  268.0  254.0  203.0  256.0  229.0  284.0  224.0   \n",
            "fbs         0.0    0.0    0.0    0.0    1.0    1.0    0.0    0.0    0.0   \n",
            "restecg     0.0    0.0    0.0    0.0    0.0    0.0    1.0    0.0    0.0   \n",
            "thalachh  108.0  129.0  160.0  147.0  155.0  142.0  168.0  160.0  173.0   \n",
            "exng        1.0    1.0    0.0    0.0    1.0    1.0    0.0    0.0    0.0   \n",
            "oldpeak     1.5    2.6    3.6    1.4    3.1    0.6    1.0    1.8    3.2   \n",
            "slp         1.0    1.0    0.0    1.0    0.0    1.0    0.0    1.0    2.0   \n",
            "caa         3.0    2.0    2.0    1.0    0.0    1.0    0.0    0.0    2.0   \n",
            "thall       2.0    3.0    2.0    3.0    3.0    1.0    3.0    2.0    3.0   \n",
            "output      0.0    0.0    0.0    0.0    0.0    0.0    0.0    0.0    0.0   \n",
            "\n",
            "            174  ...    293    294    295    296    297    298    299    300  \\\n",
            "age        60.0  ...   67.0   44.0   63.0   63.0   59.0   57.0   45.0   68.0   \n",
            "sex         1.0  ...    1.0    1.0    1.0    0.0    1.0    0.0    1.0    1.0   \n",
            "cp          0.0  ...    2.0    0.0    0.0    0.0    0.0    0.0    3.0    0.0   \n",
            "trtbps    130.0  ...  152.0  120.0  140.0  124.0  164.0  140.0  110.0  144.0   \n",
            "chol      206.0  ...  212.0  169.0  187.0  197.0  176.0  241.0  264.0  193.0   \n",
            "fbs         0.0  ...    0.0    0.0    0.0    0.0    1.0    0.0    0.0    1.0   \n",
            "restecg     0.0  ...    0.0    1.0    0.0    1.0    0.0    1.0    1.0    1.0   \n",
            "thalachh  132.0  ...  150.0  144.0  144.0  136.0   90.0  123.0  132.0  141.0   \n",
            "exng        1.0  ...    0.0    1.0    1.0    1.0    0.0    1.0    0.0    0.0   \n",
            "oldpeak     2.4  ...    0.8    2.8    4.0    0.0    1.0    0.2    1.2    3.4   \n",
            "slp         1.0  ...    1.0    0.0    2.0    1.0    1.0    1.0    1.0    1.0   \n",
            "caa         2.0  ...    0.0    0.0    2.0    0.0    2.0    0.0    0.0    2.0   \n",
            "thall       3.0  ...    3.0    1.0    3.0    2.0    1.0    3.0    3.0    3.0   \n",
            "output      0.0  ...    0.0    0.0    0.0    0.0    0.0    0.0    0.0    0.0   \n",
            "\n",
            "            301    302  \n",
            "age        57.0   57.0  \n",
            "sex         1.0    0.0  \n",
            "cp          0.0    1.0  \n",
            "trtbps    130.0  130.0  \n",
            "chol      131.0  236.0  \n",
            "fbs         0.0    0.0  \n",
            "restecg     1.0    0.0  \n",
            "thalachh  115.0  174.0  \n",
            "exng        1.0    0.0  \n",
            "oldpeak     1.2    0.0  \n",
            "slp         1.0    1.0  \n",
            "caa         1.0    1.0  \n",
            "thall       3.0    2.0  \n",
            "output      0.0    0.0  \n",
            "\n",
            "[14 rows x 138 columns]\n"
          ]
        }
      ],
      "source": [
        "print('injured')\n",
        "print(injured.T)\n",
        "print('-------------------------------------------')\n",
        "print('Noninjured')\n",
        "print(Noninjured.T)"
      ]
    },
    {
      "cell_type": "code",
      "execution_count": null,
      "id": "f7c5ea4b-68f9-4405-b30d-1ebec4f7e26f",
      "metadata": {
        "id": "f7c5ea4b-68f9-4405-b30d-1ebec4f7e26f",
        "outputId": "e2f85da7-b277-4df0-8174-58ff7f2c6ac2"
      },
      "outputs": [
        {
          "data": {
            "text/plain": [
              "output\n",
              "1    165\n",
              "0    138\n",
              "Name: count, dtype: int64"
            ]
          },
          "execution_count": 14,
          "metadata": {},
          "output_type": "execute_result"
        }
      ],
      "source": [
        "data.output.value_counts(dropna=False) #check the no of injured and non injured"
      ]
    },
    {
      "cell_type": "code",
      "execution_count": null,
      "id": "a3a89816-fad0-48ec-b71f-9d75ca2911ff",
      "metadata": {
        "id": "a3a89816-fad0-48ec-b71f-9d75ca2911ff",
        "outputId": "eb51915c-dc5f-4d94-c4ef-a8874ccfd6c8"
      },
      "outputs": [
        {
          "data": {
            "text/plain": [
              "<Axes: ylabel='count'>"
            ]
          },
          "execution_count": 16,
          "metadata": {},
          "output_type": "execute_result"
        },
        {
          "data": {
            "image/png": "[encoded data removed]",
            "text/plain": [
              "<Figure size 640x480 with 1 Axes>"
            ]
          },
          "metadata": {},
          "output_type": "display_data"
        }
      ],
      "source": [
        "data.output.value_counts().plot(kind='pie')\n"
      ]
    },
    {
      "cell_type": "code",
      "execution_count": null,
      "id": "345f7c16-fa33-49f3-a501-3bf4df996a2e",
      "metadata": {
        "id": "345f7c16-fa33-49f3-a501-3bf4df996a2e",
        "outputId": "0b7ba09d-255b-4f41-bf94-ddef96b54bed"
      },
      "outputs": [
        {
          "name": "stderr",
          "output_type": "stream",
          "text": [
            "C:\\Users\\momen\\AppData\\Local\\Programs\\Python\\Python311\\Lib\\site-packages\\seaborn\\_oldcore.py:1498: FutureWarning: is_categorical_dtype is deprecated and will be removed in a future version. Use isinstance(dtype, CategoricalDtype) instead\n",
            "  if pd.api.types.is_categorical_dtype(vector):\n",
            "C:\\Users\\momen\\AppData\\Local\\Programs\\Python\\Python311\\Lib\\site-packages\\seaborn\\_oldcore.py:1498: FutureWarning: is_categorical_dtype is deprecated and will be removed in a future version. Use isinstance(dtype, CategoricalDtype) instead\n",
            "  if pd.api.types.is_categorical_dtype(vector):\n",
            "C:\\Users\\momen\\AppData\\Local\\Programs\\Python\\Python311\\Lib\\site-packages\\seaborn\\_oldcore.py:1498: FutureWarning: is_categorical_dtype is deprecated and will be removed in a future version. Use isinstance(dtype, CategoricalDtype) instead\n",
            "  if pd.api.types.is_categorical_dtype(vector):\n"
          ]
        },
        {
          "data": {
            "image/png": "[encoded data removed]",
            "text/plain": [
              "<Figure size 1300x500 with 1 Axes>"
            ]
          },
          "metadata": {},
          "output_type": "display_data"
        }
      ],
      "source": [
        "plt.figure(figsize=(13,5))\n",
        "sns.countplot(x='age',data = data, color='r');\n",
        "plt.ylim(0,20)\n",
        "plt.title(\"Count of Age\");"
      ]
    },
    {
      "cell_type": "code",
      "execution_count": null,
      "id": "85ff1e77-194a-488c-92ac-39d3de61cbc7",
      "metadata": {
        "id": "85ff1e77-194a-488c-92ac-39d3de61cbc7",
        "outputId": "136d1d74-1d81-43c8-f5d3-908328f89971"
      },
      "outputs": [
        {
          "data": {
            "text/html": [
              "<div>\n",
              "<style scoped>\n",
              "    .dataframe tbody tr th:only-of-type {\n",
              "        vertical-align: middle;\n",
              "    }\n",
              "\n",
              "    .dataframe tbody tr th {\n",
              "        vertical-align: top;\n",
              "    }\n",
              "\n",
              "    .dataframe thead th {\n",
              "        text-align: right;\n",
              "    }\n",
              "</style>\n",
              "<table border=\"1\" class=\"dataframe\">\n",
              "  <thead>\n",
              "    <tr style=\"text-align: right;\">\n",
              "      <th></th>\n",
              "      <th>age</th>\n",
              "      <th>sex</th>\n",
              "      <th>cp</th>\n",
              "      <th>trtbps</th>\n",
              "      <th>chol</th>\n",
              "      <th>fbs</th>\n",
              "      <th>restecg</th>\n",
              "      <th>thalachh</th>\n",
              "      <th>exng</th>\n",
              "      <th>oldpeak</th>\n",
              "      <th>slp</th>\n",
              "      <th>caa</th>\n",
              "      <th>thall</th>\n",
              "      <th>output</th>\n",
              "    </tr>\n",
              "  </thead>\n",
              "  <tbody>\n",
              "    <tr>\n",
              "      <th>0</th>\n",
              "      <td>63</td>\n",
              "      <td>1</td>\n",
              "      <td>3</td>\n",
              "      <td>145</td>\n",
              "      <td>233</td>\n",
              "      <td>1</td>\n",
              "      <td>0</td>\n",
              "      <td>150</td>\n",
              "      <td>0</td>\n",
              "      <td>2.3</td>\n",
              "      <td>0</td>\n",
              "      <td>0</td>\n",
              "      <td>1</td>\n",
              "      <td>1</td>\n",
              "    </tr>\n",
              "    <tr>\n",
              "      <th>1</th>\n",
              "      <td>37</td>\n",
              "      <td>1</td>\n",
              "      <td>2</td>\n",
              "      <td>130</td>\n",
              "      <td>250</td>\n",
              "      <td>0</td>\n",
              "      <td>1</td>\n",
              "      <td>187</td>\n",
              "      <td>0</td>\n",
              "      <td>3.5</td>\n",
              "      <td>0</td>\n",
              "      <td>0</td>\n",
              "      <td>2</td>\n",
              "      <td>1</td>\n",
              "    </tr>\n",
              "    <tr>\n",
              "      <th>2</th>\n",
              "      <td>41</td>\n",
              "      <td>0</td>\n",
              "      <td>1</td>\n",
              "      <td>130</td>\n",
              "      <td>204</td>\n",
              "      <td>0</td>\n",
              "      <td>0</td>\n",
              "      <td>172</td>\n",
              "      <td>0</td>\n",
              "      <td>1.4</td>\n",
              "      <td>2</td>\n",
              "      <td>0</td>\n",
              "      <td>2</td>\n",
              "      <td>1</td>\n",
              "    </tr>\n",
              "    <tr>\n",
              "      <th>3</th>\n",
              "      <td>56</td>\n",
              "      <td>1</td>\n",
              "      <td>1</td>\n",
              "      <td>120</td>\n",
              "      <td>236</td>\n",
              "      <td>0</td>\n",
              "      <td>1</td>\n",
              "      <td>178</td>\n",
              "      <td>0</td>\n",
              "      <td>0.8</td>\n",
              "      <td>2</td>\n",
              "      <td>0</td>\n",
              "      <td>2</td>\n",
              "      <td>1</td>\n",
              "    </tr>\n",
              "    <tr>\n",
              "      <th>4</th>\n",
              "      <td>57</td>\n",
              "      <td>0</td>\n",
              "      <td>0</td>\n",
              "      <td>120</td>\n",
              "      <td>354</td>\n",
              "      <td>0</td>\n",
              "      <td>1</td>\n",
              "      <td>163</td>\n",
              "      <td>1</td>\n",
              "      <td>0.6</td>\n",
              "      <td>2</td>\n",
              "      <td>0</td>\n",
              "      <td>2</td>\n",
              "      <td>1</td>\n",
              "    </tr>\n",
              "  </tbody>\n",
              "</table>\n",
              "</div>"
            ],
            "text/plain": [
              "   age  sex  cp  trtbps  chol  fbs  restecg  thalachh  exng  oldpeak  slp  \\\n",
              "0   63    1   3     145   233    1        0       150     0      2.3    0   \n",
              "1   37    1   2     130   250    0        1       187     0      3.5    0   \n",
              "2   41    0   1     130   204    0        0       172     0      1.4    2   \n",
              "3   56    1   1     120   236    0        1       178     0      0.8    2   \n",
              "4   57    0   0     120   354    0        1       163     1      0.6    2   \n",
              "\n",
              "   caa  thall  output  \n",
              "0    0      1       1  \n",
              "1    0      2       1  \n",
              "2    0      2       1  \n",
              "3    0      2       1  \n",
              "4    0      2       1  "
            ]
          },
          "execution_count": 24,
          "metadata": {},
          "output_type": "execute_result"
        }
      ],
      "source": [
        "heart_attack_data = data[data['output']==1]\n",
        "heart_attack_data.head()"
      ]
    },
    {
      "cell_type": "code",
      "execution_count": null,
      "id": "a5cf10fe-3a1e-4420-9a68-47547eaa90a8",
      "metadata": {
        "id": "a5cf10fe-3a1e-4420-9a68-47547eaa90a8",
        "outputId": "e8d90d0d-4b68-4eec-c45e-1e12571b3272"
      },
      "outputs": [
        {
          "name": "stderr",
          "output_type": "stream",
          "text": [
            "C:\\Users\\momen\\AppData\\Local\\Programs\\Python\\Python311\\Lib\\site-packages\\seaborn\\_oldcore.py:1498: FutureWarning: is_categorical_dtype is deprecated and will be removed in a future version. Use isinstance(dtype, CategoricalDtype) instead\n",
            "  if pd.api.types.is_categorical_dtype(vector):\n",
            "C:\\Users\\momen\\AppData\\Local\\Programs\\Python\\Python311\\Lib\\site-packages\\seaborn\\_oldcore.py:1498: FutureWarning: is_categorical_dtype is deprecated and will be removed in a future version. Use isinstance(dtype, CategoricalDtype) instead\n",
            "  if pd.api.types.is_categorical_dtype(vector):\n",
            "C:\\Users\\momen\\AppData\\Local\\Programs\\Python\\Python311\\Lib\\site-packages\\seaborn\\_oldcore.py:1498: FutureWarning: is_categorical_dtype is deprecated and will be removed in a future version. Use isinstance(dtype, CategoricalDtype) instead\n",
            "  if pd.api.types.is_categorical_dtype(vector):\n"
          ]
        },
        {
          "data": {
            "image/png": "[encoded data removed]",
            "text/plain": [
              "<Figure size 1300x500 with 1 Axes>"
            ]
          },
          "metadata": {},
          "output_type": "display_data"
        }
      ],
      "source": [
        "plt.figure(figsize=(13,5))\n",
        "sns.countplot(x=\"age\", data=heart_attack_data)\n",
        "plt.title('Age Distribution of People with Heart Attack')\n",
        "plt.xlabel('Age')\n",
        "plt.ylabel('Count')\n",
        "plt.show()"
      ]
    },
    {
      "cell_type": "code",
      "execution_count": null,
      "id": "05a8c38d-9752-4230-8226-0d423ddf1ac7",
      "metadata": {
        "id": "05a8c38d-9752-4230-8226-0d423ddf1ac7",
        "outputId": "87ea59d4-c6ad-4595-c3e1-cbfafcde4f21"
      },
      "outputs": [
        {
          "name": "stderr",
          "output_type": "stream",
          "text": [
            "C:\\Users\\momen\\AppData\\Local\\Programs\\Python\\Python311\\Lib\\site-packages\\seaborn\\_oldcore.py:1498: FutureWarning: is_categorical_dtype is deprecated and will be removed in a future version. Use isinstance(dtype, CategoricalDtype) instead\n",
            "  if pd.api.types.is_categorical_dtype(vector):\n",
            "C:\\Users\\momen\\AppData\\Local\\Programs\\Python\\Python311\\Lib\\site-packages\\seaborn\\_oldcore.py:1498: FutureWarning: is_categorical_dtype is deprecated and will be removed in a future version. Use isinstance(dtype, CategoricalDtype) instead\n",
            "  if pd.api.types.is_categorical_dtype(vector):\n",
            "C:\\Users\\momen\\AppData\\Local\\Programs\\Python\\Python311\\Lib\\site-packages\\seaborn\\_oldcore.py:1498: FutureWarning: is_categorical_dtype is deprecated and will be removed in a future version. Use isinstance(dtype, CategoricalDtype) instead\n",
            "  if pd.api.types.is_categorical_dtype(vector):\n"
          ]
        },
        {
          "data": {
            "image/png": "[encoded data removed]",
            "text/plain": [
              "<Figure size 1000x500 with 1 Axes>"
            ]
          },
          "metadata": {},
          "output_type": "display_data"
        }
      ],
      "source": [
        "plt.figure(figsize=(10,5))\n",
        "sns.countplot(x=\"sex\", data=data)\n",
        "plt.title('Sex Feature Distribution')\n",
        "plt.xlabel('Sex')\n",
        "plt.ylabel('Count')\n",
        "plt.show()"
      ]
    },
    {
      "cell_type": "code",
      "execution_count": null,
      "id": "9073af58-3e52-4bf6-833a-ee8fe0abdc9b",
      "metadata": {
        "id": "9073af58-3e52-4bf6-833a-ee8fe0abdc9b"
      },
      "outputs": [],
      "source": [
        "cp_counts = data.cp.value_counts()"
      ]
    },
    {
      "cell_type": "code",
      "execution_count": null,
      "id": "7e6ee8c7-195a-4707-80d3-1c6c714a3c97",
      "metadata": {
        "id": "7e6ee8c7-195a-4707-80d3-1c6c714a3c97",
        "outputId": "eb8a7419-cb1e-47e1-d243-84c4fb5138c2"
      },
      "outputs": [
        {
          "data": {
            "text/plain": [
              "Index([0, 2, 1, 3], dtype='int64', name='cp')"
            ]
          },
          "execution_count": 29,
          "metadata": {},
          "output_type": "execute_result"
        }
      ],
      "source": [
        "cp_counts.index"
      ]
    },
    {
      "cell_type": "code",
      "execution_count": null,
      "id": "74c04f34-9524-4b08-bc0a-6131190726d5",
      "metadata": {
        "id": "74c04f34-9524-4b08-bc0a-6131190726d5"
      },
      "outputs": [],
      "source": [
        "# Define custom colors for each slice\n",
        "colors = ['aqua', 'gold', 'lightcoral', 'dodgerblue']"
      ]
    },
    {
      "cell_type": "code",
      "execution_count": null,
      "id": "035c7b3f-b3a7-484d-892c-38b60bbc8311",
      "metadata": {
        "id": "035c7b3f-b3a7-484d-892c-38b60bbc8311",
        "outputId": "31732587-ba48-4c71-8f34-4e3f6e50dba4"
      },
      "outputs": [
        {
          "data": {
            "image/png": "[encoded data removed]",
            "text/plain": [
              "<Figure size 1500x800 with 1 Axes>"
            ]
          },
          "metadata": {},
          "output_type": "display_data"
        }
      ],
      "source": [
        "plt.figure(figsize=(15,8))\n",
        "plt.pie(cp_counts, labels=cp_counts.index,autopct='%1.1f%%',colors=colors);\n",
        "plt.title(\"Distribution of Chest Pain Types\");\n",
        "plt.axis('equal');\n",
        "plt.show()"
      ]
    },
    {
      "cell_type": "code",
      "execution_count": null,
      "id": "55367349-a622-4564-ac5f-6aba52e5e20f",
      "metadata": {
        "id": "55367349-a622-4564-ac5f-6aba52e5e20f",
        "outputId": "dcbdfa9e-aa47-4af7-9dda-66e1dc707abe"
      },
      "outputs": [
        {
          "data": {
            "text/html": [
              "<div>\n",
              "<style scoped>\n",
              "    .dataframe tbody tr th:only-of-type {\n",
              "        vertical-align: middle;\n",
              "    }\n",
              "\n",
              "    .dataframe tbody tr th {\n",
              "        vertical-align: top;\n",
              "    }\n",
              "\n",
              "    .dataframe thead th {\n",
              "        text-align: right;\n",
              "    }\n",
              "</style>\n",
              "<table border=\"1\" class=\"dataframe\">\n",
              "  <thead>\n",
              "    <tr style=\"text-align: right;\">\n",
              "      <th></th>\n",
              "      <th>age</th>\n",
              "      <th>sex</th>\n",
              "      <th>cp</th>\n",
              "      <th>trtbps</th>\n",
              "      <th>chol</th>\n",
              "      <th>fbs</th>\n",
              "      <th>restecg</th>\n",
              "      <th>thalachh</th>\n",
              "      <th>exng</th>\n",
              "      <th>oldpeak</th>\n",
              "      <th>slp</th>\n",
              "      <th>caa</th>\n",
              "      <th>thall</th>\n",
              "      <th>output</th>\n",
              "    </tr>\n",
              "  </thead>\n",
              "  <tbody>\n",
              "    <tr>\n",
              "      <th>age</th>\n",
              "      <td>1.000000</td>\n",
              "      <td>-0.098447</td>\n",
              "      <td>-0.068653</td>\n",
              "      <td>0.279351</td>\n",
              "      <td>0.213678</td>\n",
              "      <td>0.121308</td>\n",
              "      <td>-0.116211</td>\n",
              "      <td>-0.398522</td>\n",
              "      <td>0.096801</td>\n",
              "      <td>0.210013</td>\n",
              "      <td>-0.168814</td>\n",
              "      <td>0.276326</td>\n",
              "      <td>0.068001</td>\n",
              "      <td>-0.225439</td>\n",
              "    </tr>\n",
              "    <tr>\n",
              "      <th>sex</th>\n",
              "      <td>-0.098447</td>\n",
              "      <td>1.000000</td>\n",
              "      <td>-0.049353</td>\n",
              "      <td>-0.056769</td>\n",
              "      <td>-0.197912</td>\n",
              "      <td>0.045032</td>\n",
              "      <td>-0.058196</td>\n",
              "      <td>-0.044020</td>\n",
              "      <td>0.141664</td>\n",
              "      <td>0.096093</td>\n",
              "      <td>-0.030711</td>\n",
              "      <td>0.118261</td>\n",
              "      <td>0.210041</td>\n",
              "      <td>-0.280937</td>\n",
              "    </tr>\n",
              "    <tr>\n",
              "      <th>cp</th>\n",
              "      <td>-0.068653</td>\n",
              "      <td>-0.049353</td>\n",
              "      <td>1.000000</td>\n",
              "      <td>0.047608</td>\n",
              "      <td>-0.076904</td>\n",
              "      <td>0.094444</td>\n",
              "      <td>0.044421</td>\n",
              "      <td>0.295762</td>\n",
              "      <td>-0.394280</td>\n",
              "      <td>-0.149230</td>\n",
              "      <td>0.119717</td>\n",
              "      <td>-0.181053</td>\n",
              "      <td>-0.161736</td>\n",
              "      <td>0.433798</td>\n",
              "    </tr>\n",
              "    <tr>\n",
              "      <th>trtbps</th>\n",
              "      <td>0.279351</td>\n",
              "      <td>-0.056769</td>\n",
              "      <td>0.047608</td>\n",
              "      <td>1.000000</td>\n",
              "      <td>0.123174</td>\n",
              "      <td>0.177531</td>\n",
              "      <td>-0.114103</td>\n",
              "      <td>-0.046698</td>\n",
              "      <td>0.067616</td>\n",
              "      <td>0.193216</td>\n",
              "      <td>-0.121475</td>\n",
              "      <td>0.101389</td>\n",
              "      <td>0.062210</td>\n",
              "      <td>-0.144931</td>\n",
              "    </tr>\n",
              "    <tr>\n",
              "      <th>chol</th>\n",
              "      <td>0.213678</td>\n",
              "      <td>-0.197912</td>\n",
              "      <td>-0.076904</td>\n",
              "      <td>0.123174</td>\n",
              "      <td>1.000000</td>\n",
              "      <td>0.013294</td>\n",
              "      <td>-0.151040</td>\n",
              "      <td>-0.009940</td>\n",
              "      <td>0.067023</td>\n",
              "      <td>0.053952</td>\n",
              "      <td>-0.004038</td>\n",
              "      <td>0.070511</td>\n",
              "      <td>0.098803</td>\n",
              "      <td>-0.085239</td>\n",
              "    </tr>\n",
              "    <tr>\n",
              "      <th>fbs</th>\n",
              "      <td>0.121308</td>\n",
              "      <td>0.045032</td>\n",
              "      <td>0.094444</td>\n",
              "      <td>0.177531</td>\n",
              "      <td>0.013294</td>\n",
              "      <td>1.000000</td>\n",
              "      <td>-0.084189</td>\n",
              "      <td>-0.008567</td>\n",
              "      <td>0.025665</td>\n",
              "      <td>0.005747</td>\n",
              "      <td>-0.059894</td>\n",
              "      <td>0.137979</td>\n",
              "      <td>-0.032019</td>\n",
              "      <td>-0.028046</td>\n",
              "    </tr>\n",
              "    <tr>\n",
              "      <th>restecg</th>\n",
              "      <td>-0.116211</td>\n",
              "      <td>-0.058196</td>\n",
              "      <td>0.044421</td>\n",
              "      <td>-0.114103</td>\n",
              "      <td>-0.151040</td>\n",
              "      <td>-0.084189</td>\n",
              "      <td>1.000000</td>\n",
              "      <td>0.044123</td>\n",
              "      <td>-0.070733</td>\n",
              "      <td>-0.058770</td>\n",
              "      <td>0.093045</td>\n",
              "      <td>-0.072042</td>\n",
              "      <td>-0.011981</td>\n",
              "      <td>0.137230</td>\n",
              "    </tr>\n",
              "    <tr>\n",
              "      <th>thalachh</th>\n",
              "      <td>-0.398522</td>\n",
              "      <td>-0.044020</td>\n",
              "      <td>0.295762</td>\n",
              "      <td>-0.046698</td>\n",
              "      <td>-0.009940</td>\n",
              "      <td>-0.008567</td>\n",
              "      <td>0.044123</td>\n",
              "      <td>1.000000</td>\n",
              "      <td>-0.378812</td>\n",
              "      <td>-0.344187</td>\n",
              "      <td>0.386784</td>\n",
              "      <td>-0.213177</td>\n",
              "      <td>-0.096439</td>\n",
              "      <td>0.421741</td>\n",
              "    </tr>\n",
              "    <tr>\n",
              "      <th>exng</th>\n",
              "      <td>0.096801</td>\n",
              "      <td>0.141664</td>\n",
              "      <td>-0.394280</td>\n",
              "      <td>0.067616</td>\n",
              "      <td>0.067023</td>\n",
              "      <td>0.025665</td>\n",
              "      <td>-0.070733</td>\n",
              "      <td>-0.378812</td>\n",
              "      <td>1.000000</td>\n",
              "      <td>0.288223</td>\n",
              "      <td>-0.257748</td>\n",
              "      <td>0.115739</td>\n",
              "      <td>0.206754</td>\n",
              "      <td>-0.436757</td>\n",
              "    </tr>\n",
              "    <tr>\n",
              "      <th>oldpeak</th>\n",
              "      <td>0.210013</td>\n",
              "      <td>0.096093</td>\n",
              "      <td>-0.149230</td>\n",
              "      <td>0.193216</td>\n",
              "      <td>0.053952</td>\n",
              "      <td>0.005747</td>\n",
              "      <td>-0.058770</td>\n",
              "      <td>-0.344187</td>\n",
              "      <td>0.288223</td>\n",
              "      <td>1.000000</td>\n",
              "      <td>-0.577537</td>\n",
              "      <td>0.222682</td>\n",
              "      <td>0.210244</td>\n",
              "      <td>-0.430696</td>\n",
              "    </tr>\n",
              "    <tr>\n",
              "      <th>slp</th>\n",
              "      <td>-0.168814</td>\n",
              "      <td>-0.030711</td>\n",
              "      <td>0.119717</td>\n",
              "      <td>-0.121475</td>\n",
              "      <td>-0.004038</td>\n",
              "      <td>-0.059894</td>\n",
              "      <td>0.093045</td>\n",
              "      <td>0.386784</td>\n",
              "      <td>-0.257748</td>\n",
              "      <td>-0.577537</td>\n",
              "      <td>1.000000</td>\n",
              "      <td>-0.080155</td>\n",
              "      <td>-0.104764</td>\n",
              "      <td>0.345877</td>\n",
              "    </tr>\n",
              "    <tr>\n",
              "      <th>caa</th>\n",
              "      <td>0.276326</td>\n",
              "      <td>0.118261</td>\n",
              "      <td>-0.181053</td>\n",
              "      <td>0.101389</td>\n",
              "      <td>0.070511</td>\n",
              "      <td>0.137979</td>\n",
              "      <td>-0.072042</td>\n",
              "      <td>-0.213177</td>\n",
              "      <td>0.115739</td>\n",
              "      <td>0.222682</td>\n",
              "      <td>-0.080155</td>\n",
              "      <td>1.000000</td>\n",
              "      <td>0.151832</td>\n",
              "      <td>-0.391724</td>\n",
              "    </tr>\n",
              "    <tr>\n",
              "      <th>thall</th>\n",
              "      <td>0.068001</td>\n",
              "      <td>0.210041</td>\n",
              "      <td>-0.161736</td>\n",
              "      <td>0.062210</td>\n",
              "      <td>0.098803</td>\n",
              "      <td>-0.032019</td>\n",
              "      <td>-0.011981</td>\n",
              "      <td>-0.096439</td>\n",
              "      <td>0.206754</td>\n",
              "      <td>0.210244</td>\n",
              "      <td>-0.104764</td>\n",
              "      <td>0.151832</td>\n",
              "      <td>1.000000</td>\n",
              "      <td>-0.344029</td>\n",
              "    </tr>\n",
              "    <tr>\n",
              "      <th>output</th>\n",
              "      <td>-0.225439</td>\n",
              "      <td>-0.280937</td>\n",
              "      <td>0.433798</td>\n",
              "      <td>-0.144931</td>\n",
              "      <td>-0.085239</td>\n",
              "      <td>-0.028046</td>\n",
              "      <td>0.137230</td>\n",
              "      <td>0.421741</td>\n",
              "      <td>-0.436757</td>\n",
              "      <td>-0.430696</td>\n",
              "      <td>0.345877</td>\n",
              "      <td>-0.391724</td>\n",
              "      <td>-0.344029</td>\n",
              "      <td>1.000000</td>\n",
              "    </tr>\n",
              "  </tbody>\n",
              "</table>\n",
              "</div>"
            ],
            "text/plain": [
              "               age       sex        cp    trtbps      chol       fbs  \\\n",
              "age       1.000000 -0.098447 -0.068653  0.279351  0.213678  0.121308   \n",
              "sex      -0.098447  1.000000 -0.049353 -0.056769 -0.197912  0.045032   \n",
              "cp       -0.068653 -0.049353  1.000000  0.047608 -0.076904  0.094444   \n",
              "trtbps    0.279351 -0.056769  0.047608  1.000000  0.123174  0.177531   \n",
              "chol      0.213678 -0.197912 -0.076904  0.123174  1.000000  0.013294   \n",
              "fbs       0.121308  0.045032  0.094444  0.177531  0.013294  1.000000   \n",
              "restecg  -0.116211 -0.058196  0.044421 -0.114103 -0.151040 -0.084189   \n",
              "thalachh -0.398522 -0.044020  0.295762 -0.046698 -0.009940 -0.008567   \n",
              "exng      0.096801  0.141664 -0.394280  0.067616  0.067023  0.025665   \n",
              "oldpeak   0.210013  0.096093 -0.149230  0.193216  0.053952  0.005747   \n",
              "slp      -0.168814 -0.030711  0.119717 -0.121475 -0.004038 -0.059894   \n",
              "caa       0.276326  0.118261 -0.181053  0.101389  0.070511  0.137979   \n",
              "thall     0.068001  0.210041 -0.161736  0.062210  0.098803 -0.032019   \n",
              "output   -0.225439 -0.280937  0.433798 -0.144931 -0.085239 -0.028046   \n",
              "\n",
              "           restecg  thalachh      exng   oldpeak       slp       caa  \\\n",
              "age      -0.116211 -0.398522  0.096801  0.210013 -0.168814  0.276326   \n",
              "sex      -0.058196 -0.044020  0.141664  0.096093 -0.030711  0.118261   \n",
              "cp        0.044421  0.295762 -0.394280 -0.149230  0.119717 -0.181053   \n",
              "trtbps   -0.114103 -0.046698  0.067616  0.193216 -0.121475  0.101389   \n",
              "chol     -0.151040 -0.009940  0.067023  0.053952 -0.004038  0.070511   \n",
              "fbs      -0.084189 -0.008567  0.025665  0.005747 -0.059894  0.137979   \n",
              "restecg   1.000000  0.044123 -0.070733 -0.058770  0.093045 -0.072042   \n",
              "thalachh  0.044123  1.000000 -0.378812 -0.344187  0.386784 -0.213177   \n",
              "exng     -0.070733 -0.378812  1.000000  0.288223 -0.257748  0.115739   \n",
              "oldpeak  -0.058770 -0.344187  0.288223  1.000000 -0.577537  0.222682   \n",
              "slp       0.093045  0.386784 -0.257748 -0.577537  1.000000 -0.080155   \n",
              "caa      -0.072042 -0.213177  0.115739  0.222682 -0.080155  1.000000   \n",
              "thall    -0.011981 -0.096439  0.206754  0.210244 -0.104764  0.151832   \n",
              "output    0.137230  0.421741 -0.436757 -0.430696  0.345877 -0.391724   \n",
              "\n",
              "             thall    output  \n",
              "age       0.068001 -0.225439  \n",
              "sex       0.210041 -0.280937  \n",
              "cp       -0.161736  0.433798  \n",
              "trtbps    0.062210 -0.144931  \n",
              "chol      0.098803 -0.085239  \n",
              "fbs      -0.032019 -0.028046  \n",
              "restecg  -0.011981  0.137230  \n",
              "thalachh -0.096439  0.421741  \n",
              "exng      0.206754 -0.436757  \n",
              "oldpeak   0.210244 -0.430696  \n",
              "slp      -0.104764  0.345877  \n",
              "caa       0.151832 -0.391724  \n",
              "thall     1.000000 -0.344029  \n",
              "output   -0.344029  1.000000  "
            ]
          },
          "execution_count": 34,
          "metadata": {},
          "output_type": "execute_result"
        }
      ],
      "source": [
        "corr=data.corr()\n",
        "corr"
      ]
    },
    {
      "cell_type": "code",
      "execution_count": null,
      "id": "9613b7bb-bbb2-4cb7-8b70-f99f86bade9a",
      "metadata": {
        "id": "9613b7bb-bbb2-4cb7-8b70-f99f86bade9a",
        "outputId": "f7fe48e7-41e3-438e-fb90-da88009e49c7"
      },
      "outputs": [
        {
          "data": {
            "image/png": "[encoded data removed]",
            "text/plain": [
              "<Figure size 640x480 with 2 Axes>"
            ]
          },
          "metadata": {},
          "output_type": "display_data"
        }
      ],
      "source": [
        "# Create a heatmap of the correlation matrix with numbers\n",
        "sns.heatmap(corr, cmap=\"YlGnBu\", annot=True, fmt=\".1f\")\n",
        "\n",
        "# Set the title of the plot\n",
        "plt.title(\"Correlation Matrix\")\n",
        "\n",
        "# Display the plot\n",
        "plt.show()"
      ]
    },
    {
      "cell_type": "code",
      "execution_count": null,
      "id": "5691403e-ba7a-49c5-8fcc-541b8ede99f8",
      "metadata": {
        "id": "5691403e-ba7a-49c5-8fcc-541b8ede99f8",
        "outputId": "59329ffa-89cb-4c83-c685-2000627315ca"
      },
      "outputs": [
        {
          "name": "stdout",
          "output_type": "stream",
          "text": [
            "List of pairs [(corr,features)]\n",
            " [(0.22543871587483838, 'age'), (0.28093657550176676, 'sex'), (0.43379826150689443, 'cp'), (0.14493112849775, 'trtbps'), (0.08523910513756904, 'chol'), (0.028045760272712952, 'fbs'), (0.1372295028737732, 'restecg'), (0.4217409338106742, 'thalachh'), (0.43675708335330315, 'exng'), (0.4306960016873686, 'oldpeak'), (0.34587707824172464, 'slp'), (0.39172399235125244, 'caa'), (0.34402926803830997, 'thall')]\n"
          ]
        }
      ],
      "source": [
        "#take absolute values of correalations\n",
        "features=data.drop(['output'], axis = 1)\n",
        "corrs=[abs(corr[attr]['output']) for attr in list(features)]\n",
        "\n",
        "#make a list of pairs [(corr, features)]\n",
        "l=list(zip(corrs,list(features)))\n",
        "#print(\"Absolute of correlations \\n\",corrs)\n",
        "print(\"List of pairs [(corr,features)]\\n\",l)"
      ]
    },
    {
      "cell_type": "code",
      "execution_count": null,
      "id": "0a7d18ef-04ba-4c19-b4b0-7c12cd1cce82",
      "metadata": {
        "id": "0a7d18ef-04ba-4c19-b4b0-7c12cd1cce82",
        "outputId": "3a5d5c11-90d4-4d0d-b182-d7ff60fcac90"
      },
      "outputs": [
        {
          "name": "stdout",
          "output_type": "stream",
          "text": [
            "corrs = \n",
            " (0.22543871587483838, 0.28093657550176676, 0.43379826150689443, 0.14493112849775, 0.08523910513756904, 0.028045760272712952, 0.1372295028737732, 0.4217409338106742, 0.43675708335330315, 0.4306960016873686, 0.34587707824172464, 0.39172399235125244, 0.34402926803830997) labels = \n",
            " ('age', 'sex', 'cp', 'trtbps', 'chol', 'fbs', 'restecg', 'thalachh', 'exng', 'oldpeak', 'slp', 'caa', 'thall')\n"
          ]
        }
      ],
      "source": [
        "# Unzip pairs of two lists\n",
        "corrs, labels = list(zip(*l))\n",
        "\n",
        "# `zip(*l)` takes a list that looks like [[a,b,c],[d,e,f],[g,h,i]] and returns [[a,d,g],[b,e,h],[e,f,i]]\n",
        "# `zip(*l)` unpacks the pairs of two lists into two separate lists, `corrs` and `labels`\n",
        "\n",
        "# Display the contents of the `corrs` and `labels` lists\n",
        "print(\"corrs = \\n\", corrs, \"labels = \\n\", labels)"
      ]
    },
    {
      "cell_type": "code",
      "execution_count": null,
      "id": "b9bfddfe-08b4-4366-9be2-c7a64457adcb",
      "metadata": {
        "id": "b9bfddfe-08b4-4366-9be2-c7a64457adcb",
        "outputId": "8ffadb98-8219-45bd-f8ed-2ca5bafec1b9"
      },
      "outputs": [
        {
          "data": {
            "image/png": "[encoded data removed]",
            "text/plain": [
              "<Figure size 1500x500 with 1 Axes>"
            ]
          },
          "metadata": {},
          "output_type": "display_data"
        }
      ],
      "source": [
        "# Create a numpy array of indices for the x-axis\n",
        "index = np.arange(len(labels))\n",
        "\n",
        "# Create a figure with the specified size\n",
        "fig, ax = plt.subplots(figsize=(15, 5))\n",
        "\n",
        "# Create a bar plot of the correlations\n",
        "ax.bar(index, corrs, width=0.6)\n",
        "\n",
        "# Set the x-label, y-label, and x-tick labels\n",
        "ax.set_xlabel('Attributes')\n",
        "ax.set_ylabel('Correlation with target variable(num)')\n",
        "ax.set_xticks(index)\n",
        "ax.set_xticklabels(labels)\n",
        "\n",
        "# Display the plot\n",
        "plt.show()"
      ]
    },
    {
      "cell_type": "code",
      "execution_count": null,
      "id": "143a6d1e-712a-4ef6-96b9-bd63254d4ba1",
      "metadata": {
        "id": "143a6d1e-712a-4ef6-96b9-bd63254d4ba1"
      },
      "outputs": [],
      "source": [
        "data.drop('fbs', axis=1, inplace=True)\n"
      ]
    },
    {
      "cell_type": "code",
      "execution_count": null,
      "id": "ff573a3f-fe75-49c0-9546-86101b2678c9",
      "metadata": {
        "id": "ff573a3f-fe75-49c0-9546-86101b2678c9"
      },
      "outputs": [],
      "source": [
        "data.drop('caa',axis=1,inplace=True)\n"
      ]
    },
    {
      "cell_type": "code",
      "execution_count": null,
      "id": "b7b8594e-2ebb-47e2-a9c2-c2b3cba9e902",
      "metadata": {
        "id": "b7b8594e-2ebb-47e2-a9c2-c2b3cba9e902",
        "outputId": "7d1105e5-98dd-4c73-cc64-b6b3602eec84"
      },
      "outputs": [
        {
          "data": {
            "text/plain": [
              "Index(['age', 'sex', 'cp', 'trtbps', 'chol', 'restecg', 'thalachh', 'exng',\n",
              "       'oldpeak', 'slp', 'thall', 'output'],\n",
              "      dtype='object')"
            ]
          },
          "execution_count": 59,
          "metadata": {},
          "output_type": "execute_result"
        }
      ],
      "source": [
        "data.columns\n"
      ]
    },
    {
      "cell_type": "code",
      "execution_count": null,
      "id": "9b09fb09-3a19-42bd-805b-7ce042e2a1ae",
      "metadata": {
        "id": "9b09fb09-3a19-42bd-805b-7ce042e2a1ae"
      },
      "outputs": [],
      "source": [
        "X = data.drop('output', axis=1)  # Assuming 'output' is the target column name\n",
        "y = data['output']"
      ]
    },
    {
      "cell_type": "code",
      "execution_count": null,
      "id": "fee36633-2965-4db6-bc79-a3fc0b2a262b",
      "metadata": {
        "id": "fee36633-2965-4db6-bc79-a3fc0b2a262b",
        "outputId": "163b8b3e-9b8f-47cf-b206-6ffee5a2ef9e"
      },
      "outputs": [
        {
          "data": {
            "text/plain": [
              "0      1\n",
              "1      1\n",
              "2      1\n",
              "3      1\n",
              "4      1\n",
              "      ..\n",
              "298    0\n",
              "299    0\n",
              "300    0\n",
              "301    0\n",
              "302    0\n",
              "Name: output, Length: 303, dtype: int64"
            ]
          },
          "execution_count": 61,
          "metadata": {},
          "output_type": "execute_result"
        }
      ],
      "source": [
        "y\n"
      ]
    },
    {
      "cell_type": "code",
      "execution_count": null,
      "id": "5ae6710c-c9cb-40dc-983a-303402b98606",
      "metadata": {
        "id": "5ae6710c-c9cb-40dc-983a-303402b98606",
        "outputId": "946a90b1-bedf-45c9-9d12-48592b01aaeb"
      },
      "outputs": [
        {
          "data": {
            "text/html": [
              "<div>\n",
              "<style scoped>\n",
              "    .dataframe tbody tr th:only-of-type {\n",
              "        vertical-align: middle;\n",
              "    }\n",
              "\n",
              "    .dataframe tbody tr th {\n",
              "        vertical-align: top;\n",
              "    }\n",
              "\n",
              "    .dataframe thead th {\n",
              "        text-align: right;\n",
              "    }\n",
              "</style>\n",
              "<table border=\"1\" class=\"dataframe\">\n",
              "  <thead>\n",
              "    <tr style=\"text-align: right;\">\n",
              "      <th></th>\n",
              "      <th>age</th>\n",
              "      <th>sex</th>\n",
              "      <th>cp</th>\n",
              "      <th>trtbps</th>\n",
              "      <th>chol</th>\n",
              "      <th>restecg</th>\n",
              "      <th>thalachh</th>\n",
              "      <th>exng</th>\n",
              "      <th>oldpeak</th>\n",
              "      <th>slp</th>\n",
              "      <th>thall</th>\n",
              "    </tr>\n",
              "  </thead>\n",
              "  <tbody>\n",
              "    <tr>\n",
              "      <th>0</th>\n",
              "      <td>63</td>\n",
              "      <td>1</td>\n",
              "      <td>3</td>\n",
              "      <td>145</td>\n",
              "      <td>233</td>\n",
              "      <td>0</td>\n",
              "      <td>150</td>\n",
              "      <td>0</td>\n",
              "      <td>2.3</td>\n",
              "      <td>0</td>\n",
              "      <td>1</td>\n",
              "    </tr>\n",
              "    <tr>\n",
              "      <th>1</th>\n",
              "      <td>37</td>\n",
              "      <td>1</td>\n",
              "      <td>2</td>\n",
              "      <td>130</td>\n",
              "      <td>250</td>\n",
              "      <td>1</td>\n",
              "      <td>187</td>\n",
              "      <td>0</td>\n",
              "      <td>3.5</td>\n",
              "      <td>0</td>\n",
              "      <td>2</td>\n",
              "    </tr>\n",
              "    <tr>\n",
              "      <th>2</th>\n",
              "      <td>41</td>\n",
              "      <td>0</td>\n",
              "      <td>1</td>\n",
              "      <td>130</td>\n",
              "      <td>204</td>\n",
              "      <td>0</td>\n",
              "      <td>172</td>\n",
              "      <td>0</td>\n",
              "      <td>1.4</td>\n",
              "      <td>2</td>\n",
              "      <td>2</td>\n",
              "    </tr>\n",
              "    <tr>\n",
              "      <th>3</th>\n",
              "      <td>56</td>\n",
              "      <td>1</td>\n",
              "      <td>1</td>\n",
              "      <td>120</td>\n",
              "      <td>236</td>\n",
              "      <td>1</td>\n",
              "      <td>178</td>\n",
              "      <td>0</td>\n",
              "      <td>0.8</td>\n",
              "      <td>2</td>\n",
              "      <td>2</td>\n",
              "    </tr>\n",
              "    <tr>\n",
              "      <th>4</th>\n",
              "      <td>57</td>\n",
              "      <td>0</td>\n",
              "      <td>0</td>\n",
              "      <td>120</td>\n",
              "      <td>354</td>\n",
              "      <td>1</td>\n",
              "      <td>163</td>\n",
              "      <td>1</td>\n",
              "      <td>0.6</td>\n",
              "      <td>2</td>\n",
              "      <td>2</td>\n",
              "    </tr>\n",
              "    <tr>\n",
              "      <th>...</th>\n",
              "      <td>...</td>\n",
              "      <td>...</td>\n",
              "      <td>...</td>\n",
              "      <td>...</td>\n",
              "      <td>...</td>\n",
              "      <td>...</td>\n",
              "      <td>...</td>\n",
              "      <td>...</td>\n",
              "      <td>...</td>\n",
              "      <td>...</td>\n",
              "      <td>...</td>\n",
              "    </tr>\n",
              "    <tr>\n",
              "      <th>298</th>\n",
              "      <td>57</td>\n",
              "      <td>0</td>\n",
              "      <td>0</td>\n",
              "      <td>140</td>\n",
              "      <td>241</td>\n",
              "      <td>1</td>\n",
              "      <td>123</td>\n",
              "      <td>1</td>\n",
              "      <td>0.2</td>\n",
              "      <td>1</td>\n",
              "      <td>3</td>\n",
              "    </tr>\n",
              "    <tr>\n",
              "      <th>299</th>\n",
              "      <td>45</td>\n",
              "      <td>1</td>\n",
              "      <td>3</td>\n",
              "      <td>110</td>\n",
              "      <td>264</td>\n",
              "      <td>1</td>\n",
              "      <td>132</td>\n",
              "      <td>0</td>\n",
              "      <td>1.2</td>\n",
              "      <td>1</td>\n",
              "      <td>3</td>\n",
              "    </tr>\n",
              "    <tr>\n",
              "      <th>300</th>\n",
              "      <td>68</td>\n",
              "      <td>1</td>\n",
              "      <td>0</td>\n",
              "      <td>144</td>\n",
              "      <td>193</td>\n",
              "      <td>1</td>\n",
              "      <td>141</td>\n",
              "      <td>0</td>\n",
              "      <td>3.4</td>\n",
              "      <td>1</td>\n",
              "      <td>3</td>\n",
              "    </tr>\n",
              "    <tr>\n",
              "      <th>301</th>\n",
              "      <td>57</td>\n",
              "      <td>1</td>\n",
              "      <td>0</td>\n",
              "      <td>130</td>\n",
              "      <td>131</td>\n",
              "      <td>1</td>\n",
              "      <td>115</td>\n",
              "      <td>1</td>\n",
              "      <td>1.2</td>\n",
              "      <td>1</td>\n",
              "      <td>3</td>\n",
              "    </tr>\n",
              "    <tr>\n",
              "      <th>302</th>\n",
              "      <td>57</td>\n",
              "      <td>0</td>\n",
              "      <td>1</td>\n",
              "      <td>130</td>\n",
              "      <td>236</td>\n",
              "      <td>0</td>\n",
              "      <td>174</td>\n",
              "      <td>0</td>\n",
              "      <td>0.0</td>\n",
              "      <td>1</td>\n",
              "      <td>2</td>\n",
              "    </tr>\n",
              "  </tbody>\n",
              "</table>\n",
              "<p>303 rows × 11 columns</p>\n",
              "</div>"
            ],
            "text/plain": [
              "     age  sex  cp  trtbps  chol  restecg  thalachh  exng  oldpeak  slp  thall\n",
              "0     63    1   3     145   233        0       150     0      2.3    0      1\n",
              "1     37    1   2     130   250        1       187     0      3.5    0      2\n",
              "2     41    0   1     130   204        0       172     0      1.4    2      2\n",
              "3     56    1   1     120   236        1       178     0      0.8    2      2\n",
              "4     57    0   0     120   354        1       163     1      0.6    2      2\n",
              "..   ...  ...  ..     ...   ...      ...       ...   ...      ...  ...    ...\n",
              "298   57    0   0     140   241        1       123     1      0.2    1      3\n",
              "299   45    1   3     110   264        1       132     0      1.2    1      3\n",
              "300   68    1   0     144   193        1       141     0      3.4    1      3\n",
              "301   57    1   0     130   131        1       115     1      1.2    1      3\n",
              "302   57    0   1     130   236        0       174     0      0.0    1      2\n",
              "\n",
              "[303 rows x 11 columns]"
            ]
          },
          "execution_count": 62,
          "metadata": {},
          "output_type": "execute_result"
        }
      ],
      "source": [
        "X\n"
      ]
    },
    {
      "cell_type": "code",
      "execution_count": null,
      "id": "e85f6a20-1c3a-40bb-848a-064f0aa333b4",
      "metadata": {
        "id": "e85f6a20-1c3a-40bb-848a-064f0aa333b4",
        "outputId": "9149113a-6b3e-4f47-e11d-6c23c40b0e46"
      },
      "outputs": [
        {
          "name": "stdout",
          "output_type": "stream",
          "text": [
            "X_train shape: (181, 11)\n",
            "X_test shape: (122, 11)\n",
            "y_train shape: (181,)\n",
            "y_test shape: (122,)\n"
          ]
        }
      ],
      "source": [
        "# Split the data into training and testing sets\n",
        "X_train, X_test, y_train, y_test = train_test_split(X, y, test_size=0.4, random_state=46, shuffle = True)\n",
        "\n",
        "# Print the shapes of the resulting subsets\n",
        "print(\"X_train shape:\", X_train.shape)\n",
        "print(\"X_test shape:\", X_test.shape)\n",
        "print(\"y_train shape:\", y_train.shape)\n",
        "print(\"y_test shape:\", y_test.shape)"
      ]
    },
    {
      "cell_type": "code",
      "execution_count": null,
      "id": "4a831496-f060-4d6f-be5f-a0308436ee25",
      "metadata": {
        "id": "4a831496-f060-4d6f-be5f-a0308436ee25",
        "outputId": "87a7cfff-3222-4095-d4bf-c3935153c076"
      },
      "outputs": [
        {
          "name": "stdout",
          "output_type": "stream",
          "text": [
            "Accuracy: 0.819672131147541\n"
          ]
        },
        {
          "name": "stderr",
          "output_type": "stream",
          "text": [
            "C:\\Users\\momen\\AppData\\Local\\Programs\\Python\\Python311\\Lib\\site-packages\\sklearn\\linear_model\\_logistic.py:460: ConvergenceWarning: lbfgs failed to converge (status=1):\n",
            "STOP: TOTAL NO. of ITERATIONS REACHED LIMIT.\n",
            "\n",
            "Increase the number of iterations (max_iter) or scale the data as shown in:\n",
            "    https://scikit-learn.org/stable/modules/preprocessing.html\n",
            "Please also refer to the documentation for alternative solver options:\n",
            "    https://scikit-learn.org/stable/modules/linear_model.html#logistic-regression\n",
            "  n_iter_i = _check_optimize_result(\n"
          ]
        }
      ],
      "source": [
        "# Create a logistic regression model\n",
        "model = LogisticRegression()\n",
        "\n",
        "# Fit the model to the training data\n",
        "model.fit(X_train, y_train) # Y true ==> [0,0,0,0,1]\n",
        "\n",
        "# Make predictions on the testing data\n",
        "y_pred = model.predict(X_test) # Y predict ==> [0,0,1,0,1]\n",
        "\n",
        "# Calculate the accuracy of the model\n",
        "accuracy = accuracy_score(y_test, y_pred)\n",
        "print(\"Accuracy:\", accuracy)"
      ]
    },
    {
      "cell_type": "code",
      "execution_count": null,
      "id": "7258a049-919b-44fe-a079-497cefff8da4",
      "metadata": {
        "id": "7258a049-919b-44fe-a079-497cefff8da4"
      },
      "outputs": [],
      "source": []
    }
  ],
  "metadata": {
    "kernelspec": {
      "display_name": "Python 3 (ipykernel)",
      "language": "python",
      "name": "python3"
    },
    "language_info": {
      "codemirror_mode": {
        "name": "ipython",
        "version": 3
      },
      "file_extension": ".py",
      "mimetype": "text/x-python",
      "name": "python",
      "nbconvert_exporter": "python",
      "pygments_lexer": "ipython3",
      "version": "3.11.4"
    },
    "colab": {
      "provenance": []
    }
  },
  "nbformat": 4,
  "nbformat_minor": 5
}